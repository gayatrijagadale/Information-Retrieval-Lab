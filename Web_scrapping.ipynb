{
 "cells": [
  {
   "cell_type": "code",
   "execution_count": 2,
   "id": "6a1bca1a-8aae-4cd7-8d0e-71627861ef53",
   "metadata": {},
   "outputs": [],
   "source": [
    "import pandas as pd\n",
    "import csv\n",
    "import requests"
   ]
  },
  {
   "cell_type": "code",
   "execution_count": 4,
   "id": "63ecd847-bd64-4172-a83e-cba079a8dcc7",
   "metadata": {},
   "outputs": [],
   "source": [
    "from bs4 import BeautifulSoup"
   ]
  },
  {
   "cell_type": "code",
   "execution_count": 6,
   "id": "953ebf79-271b-44d1-af08-701fd2a8c99d",
   "metadata": {},
   "outputs": [],
   "source": [
    "url = \"https://www.amazon.in/s?k=mobile+phone+under+50000\""
   ]
  },
  {
   "cell_type": "code",
   "execution_count": 8,
   "id": "4e0012d3-1399-47e9-8acc-a41232ebe431",
   "metadata": {},
   "outputs": [],
   "source": [
    "responce = requests.get(url)"
   ]
  },
  {
   "cell_type": "code",
   "execution_count": 10,
   "id": "fb9837db-bf2e-44ae-95f7-4f4bd73f9c53",
   "metadata": {},
   "outputs": [
    {
     "data": {
      "text/plain": [
       "<Response [200]>"
      ]
     },
     "execution_count": 10,
     "metadata": {},
     "output_type": "execute_result"
    }
   ],
   "source": [
    "responce"
   ]
  },
  {
   "cell_type": "code",
   "execution_count": 12,
   "id": "0aaac0b9-3332-46d5-b851-833d70bf4a96",
   "metadata": {},
   "outputs": [],
   "source": [
    "soup = BeautifulSoup(responce.content, \"html.parser\")"
   ]
  },
  {
   "cell_type": "code",
   "execution_count": 14,
   "id": "50c6f5ad-186b-4ec3-a7b4-a77ace6243b2",
   "metadata": {},
   "outputs": [],
   "source": [
    "name = []\n",
    "price = []\n",
    "rating = []\n",
    "img = []"
   ]
  },
  {
   "cell_type": "code",
   "execution_count": 16,
   "id": "199f9003-f788-4615-bf2e-b61c4f20adcc",
   "metadata": {},
   "outputs": [],
   "source": [
    "product = soup.find_all('h2', class_=\"a-size-mini a-spacing-none a-color-base s-line-clamp-2\")\n",
    "for i in product:\n",
    "    name.append(i.text)"
   ]
  },
  {
   "cell_type": "code",
   "execution_count": 18,
   "id": "5edc9669-8ffe-48a7-9924-cbd650d43ce2",
   "metadata": {},
   "outputs": [
    {
     "data": {
      "text/plain": [
       "['Samsung Galaxy A55 5G (Awesome Iceblue, 12GB RAM, 256GB Storage) | Metal Frame | 50 MP Main Camera (OIS) | Nightography | IP67 | Corning Gorilla Glass Victus+ | sAMOLED with Vision Booster  ',\n",
       " 'OnePlus 12R (Cool Blue, 16GB RAM, 256GB Storage)  ',\n",
       " 'Xiaomi 14 (Jade Green, 12GB RAM, 512GB Storage) | 50MP Leica Professional Optics | 120 Hz 1.5K LTPO AMOLED | SD 8 Gen 3 Hyper OS  ',\n",
       " 'Apple iPhone 13 (128GB) - Midnight  ',\n",
       " 'Xiaomi 14 (Black, 12GB RAM, 512GB Storage) | 50MP Leica Professional Optics | 120 Hz 1.5K LTPO AMOLED | SD 8 Gen 3 Hyper OS  ',\n",
       " 'OnePlus 12R (Sunset Dune, 8GB RAM, 256GB Storage)  ',\n",
       " 'OnePlus 12R (Iron Gray, 16GB RAM, 256GB Storage)  ',\n",
       " 'Vivo V40 Pro 5G AI Smartphone (Ganges Blue, 8GB RAM+ 256GB Storage)  ',\n",
       " 'Vivo V30e 5G Smartphone (Velvet Red, 8GB RAM, 256GB Storage)  ',\n",
       " 'realme NARZO 70 Pro 5G (Glass Gold, 8GB RAM,128GB Storage) Dimensity 7050 5G Chipset | Horizon Glass Design | Segment 1st Flagship Sony IMX890 OIS Camera  ',\n",
       " 'OnePlus Nord CE 3 5G (Aqua Surge, 8GB RAM, 128GB Storage)  ',\n",
       " \"Lava Agni 3 5G (Prestine Glass, 8GB+256GB) | India's 1st Dual AMOLED | Dimensity 7300X | 50MP Triple AI Camera | 66W Fast Charge & 5000 mAh Battery | with Charger | Flat Rs.1500 Off on All Banks  \",\n",
       " 'OnePlus 12R (Cool Blue, 8GB RAM, 256GB Storage)  ',\n",
       " \"HONOR X9b 5G (Midnight Black, 8GB + 256GB) | India's First Ultra-Bounce Anti-Drop Curved AMOLED Display | 5800mAh Battery | 108MP Primary Camera | Without Charger  \",\n",
       " 'OnePlus Nord 4 5G (Obsidian Midnight, 12GB RAM, 256GB Storage)  ',\n",
       " 'Samsung Galaxy A55 5G (Awesome Navy, 12GB RAM, 256GB Storage) | Metal Frame | 50 MP Main Camera (OIS) | Nightography | IP67 | Corning Gorilla Glass Victus+ | sAMOLED with Vision Booster  ']"
      ]
     },
     "execution_count": 18,
     "metadata": {},
     "output_type": "execute_result"
    }
   ],
   "source": [
    "name"
   ]
  },
  {
   "cell_type": "code",
   "execution_count": 20,
   "id": "6483063a-980f-49a7-9127-21eda39392f9",
   "metadata": {},
   "outputs": [],
   "source": [
    "star = soup.find_all('i', class_=\"a-icon a-icon-star-small a-star-small-4-5\")\n",
    "for i in star:\n",
    "    rating.append(i.text)"
   ]
  },
  {
   "cell_type": "code",
   "execution_count": 22,
   "id": "7dd3f73a-7379-4ed3-8c2a-c7a81532e94e",
   "metadata": {},
   "outputs": [
    {
     "data": {
      "text/plain": [
       "['4.3 out of 5 stars',\n",
       " '4.5 out of 5 stars',\n",
       " '4.3 out of 5 stars',\n",
       " '4.3 out of 5 stars',\n",
       " '4.3 out of 5 stars',\n",
       " '4.3 out of 5 stars',\n",
       " '4.3 out of 5 stars']"
      ]
     },
     "execution_count": 22,
     "metadata": {},
     "output_type": "execute_result"
    }
   ],
   "source": [
    "rating"
   ]
  },
  {
   "cell_type": "code",
   "execution_count": 24,
   "id": "9cb7b010-2da6-4ca8-a268-65d9ec9ba24a",
   "metadata": {},
   "outputs": [],
   "source": [
    "rupees = soup.find_all('span', class_=\"a-offscreen\")\n",
    "for i in rupees:\n",
    "    price.append(i.text)"
   ]
  },
  {
   "cell_type": "code",
   "execution_count": 26,
   "id": "7a482e46-6e38-4d7e-9dc7-e56ede4303d2",
   "metadata": {},
   "outputs": [
    {
     "data": {
      "text/plain": [
       "['₹45,999',\n",
       " '₹48,999',\n",
       " '₹45,998',\n",
       " '₹49,999',\n",
       " '₹79,999',\n",
       " '₹45,499',\n",
       " '₹59,600',\n",
       " '₹49,999',\n",
       " '₹79,999',\n",
       " '₹42,998',\n",
       " '₹45,998',\n",
       " '₹46,080',\n",
       " '₹54,999',\n",
       " '₹25,410.99',\n",
       " '₹34,999',\n",
       " '₹15,498',\n",
       " '₹24,999',\n",
       " '₹17,499',\n",
       " '₹26,999',\n",
       " '₹25,999',\n",
       " '₹27,999',\n",
       " '₹42,998',\n",
       " '₹24,998',\n",
       " '₹30,999',\n",
       " '₹32,999',\n",
       " '₹35,999',\n",
       " '₹45,999',\n",
       " '₹48,999']"
      ]
     },
     "execution_count": 26,
     "metadata": {},
     "output_type": "execute_result"
    }
   ],
   "source": [
    "price"
   ]
  },
  {
   "cell_type": "code",
   "execution_count": 28,
   "id": "47aee092-bffd-4232-b66d-7c80d8bf6f0a",
   "metadata": {},
   "outputs": [],
   "source": [
    "image = soup.find_all('img')\n",
    "p = 0"
   ]
  },
  {
   "cell_type": "code",
   "execution_count": 30,
   "id": "bbb8bc89-320e-474d-a36e-b32b6758e4cf",
   "metadata": {},
   "outputs": [],
   "source": [
    "for i in image:\n",
    "    p+=1\n",
    "    img.append(i.get('src'))\n",
    "    if p==20:\n",
    "        break"
   ]
  },
  {
   "cell_type": "code",
   "execution_count": 32,
   "id": "dc9c1c00-e064-4ac8-8114-70b0dc92a979",
   "metadata": {},
   "outputs": [
    {
     "data": {
      "text/plain": [
       "['https://m.media-amazon.com/images/G/31/social_share/amazon_logo._CB633266945_.png',\n",
       " 'https://m.media-amazon.com/images/G/31/gno/sprites/nav-sprite-global-1x-reorg-privacy._CB542307618_.png',\n",
       " 'https://m.media-amazon.com/images/I/71ZrPkGgcLL._AC_UY218_.jpg',\n",
       " 'https://m.media-amazon.com/images/I/717JX3femML._AC_UY218_.jpg',\n",
       " 'https://m.media-amazon.com/images/I/71MsYJjQhBL._AC_UY218_.jpg',\n",
       " 'https://m.media-amazon.com/images/I/61VuVU94RnL._AC_UY218_.jpg',\n",
       " 'https://m.media-amazon.com/images/I/714PYaZXuiL._AC_UY218_.jpg',\n",
       " 'https://m.media-amazon.com/images/I/71c3EH8FoWL._AC_UY218_.jpg',\n",
       " 'https://m.media-amazon.com/images/I/71XNeka-BRL._AC_UY218_.jpg',\n",
       " 'https://m.media-amazon.com/images/I/61OgMJeh15L._AC_UY218_.jpg',\n",
       " 'https://m.media-amazon.com/images/I/61vxwwIEnXL._AC_UY218_.jpg',\n",
       " 'https://m.media-amazon.com/images/I/71Qwha+BcbL._AC_UY218_.jpg',\n",
       " 'https://m.media-amazon.com/images/I/6175SlKKECL._AC_UY218_.jpg',\n",
       " 'https://m.media-amazon.com/images/I/7191m+RPB4L._AC_UY218_.jpg',\n",
       " 'https://m.media-amazon.com/images/I/717JX3femML._AC_UY218_.jpg',\n",
       " 'https://m.media-amazon.com/images/I/71dGNC6hjHL._AC_UY218_.jpg',\n",
       " 'https://m.media-amazon.com/images/I/61NbiB1GU-L._AC_UY218_.jpg',\n",
       " 'https://m.media-amazon.com/images/I/71EeBkydf9L._AC_UY218_.jpg',\n",
       " 'https://m.media-amazon.com/images/G/31/personalization/ybh/loading-4x-gray._CB485916689_.gif']"
      ]
     },
     "execution_count": 32,
     "metadata": {},
     "output_type": "execute_result"
    }
   ],
   "source": [
    "img"
   ]
  },
  {
   "cell_type": "code",
   "execution_count": 34,
   "id": "d45c6b72-b174-4c4d-b76f-e3b3d5dc2a3a",
   "metadata": {},
   "outputs": [],
   "source": [
    "# download image\n",
    "import os"
   ]
  },
  {
   "cell_type": "code",
   "execution_count": 36,
   "id": "1bae854e-4937-49a2-b2df-78fd5defdcf7",
   "metadata": {},
   "outputs": [],
   "source": [
    "os.makedirs(\"amazon\", exist_ok=True)"
   ]
  },
  {
   "cell_type": "code",
   "execution_count": 38,
   "id": "fcdedec1-77cb-4552-86d6-74ea0a5433a0",
   "metadata": {},
   "outputs": [],
   "source": [
    "for i, url in enumerate(img):\n",
    "    try:\n",
    "        # Send a GET request to each image URL to fetch image data\n",
    "        response = requests.get(url)\n",
    "        # Write the image data to a file in the 'amazon' directory\n",
    "        with open(f\"amazon/{i}.jpg\", 'wb') as f:\n",
    "            f.write(response.content)\n",
    "    except Exception as e:\n",
    "        print(f\"Error downloading image {i} from {url}: {e}\")"
   ]
  },
  {
   "cell_type": "code",
   "execution_count": null,
   "id": "bd7a4f2b-734c-45bd-8fc1-6d28d9650560",
   "metadata": {},
   "outputs": [],
   "source": []
  }
 ],
 "metadata": {
  "kernelspec": {
   "display_name": "Python 3 (ipykernel)",
   "language": "python",
   "name": "python3"
  },
  "language_info": {
   "codemirror_mode": {
    "name": "ipython",
    "version": 3
   },
   "file_extension": ".py",
   "mimetype": "text/x-python",
   "name": "python",
   "nbconvert_exporter": "python",
   "pygments_lexer": "ipython3",
   "version": "3.12.4"
  }
 },
 "nbformat": 4,
 "nbformat_minor": 5
}
